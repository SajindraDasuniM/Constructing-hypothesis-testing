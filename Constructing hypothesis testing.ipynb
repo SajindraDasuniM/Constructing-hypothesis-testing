{
 "cells": [
  {
   "cell_type": "markdown",
   "id": "235d8866",
   "metadata": {
    "id": "d25eed62-5910-4d10-a976-c18c4f7d99f7"
   },
   "source": [
    "# Constructing hypothesis testing"
   ]
  },
  {
   "cell_type": "markdown",
   "id": "b7b52e76",
   "metadata": {
    "id": "b50579ec-09df-4bb1-ad5a-d28f4790ca16"
   },
   "source": [
    "## Introduction"
   ]
  },
  {
   "cell_type": "markdown",
   "id": "ccaa6da0",
   "metadata": {
    "id": "6a8992ac-22d5-41db-aa09-263b464950e0"
   },
   "source": [
    "ROA(Repair Our Air) is formulating policy recommendations to improve the air quality in America, using the Environmental Protection Agency's Air Quality Index (AQI) to guide their decision making. An AQI value close to 0 signals \"little to no\" public health concern, while higher values are associated with increased risk to public health.\n",
    "\n",
    "They've tasked us with leveraging AQI data to help them prioritize their strategy for improving air quality in America."
   ]
  },
  {
   "cell_type": "markdown",
   "id": "dc076a9b",
   "metadata": {
    "id": "6e4e3b8a-b5f9-4fe1-a824-0bd3aece693c"
   },
   "source": [
    "ROA is considering the following decisions. For each, construct a hypothesis test and use the results of that test to make a recommendation:\n",
    "\n",
    "1. ROA is considering a metropolitan-focused approach. Within California, they want to know if the mean AQI in Los Angeles County is statistically different from the rest of California.\n",
    "2. With limited resources, ROA has to choose between New York and Ohio for their next regional office. Does New York have a lower AQI than Ohio?\n",
    "3. A new policy will affect those states with a mean AQI of 10 or greater. Would Michigan be affected by this new policy?\n",
    "\n",
    "**Notes:**\n",
    "1. We'll default to a 5% level of significance.\n",
    "2. For two-sample t-tests, use Welch's t-test (i.e., setting the `equal_var` parameter to `False` in `scipy.stats.ttest_ind()`). This will account for the possibly unequal variances between the two groups in the comparison."
   ]
  },
  {
   "cell_type": "markdown",
   "id": "b59fcf25",
   "metadata": {
    "id": "3b4dc9a5-d724-4696-a704-57fefa9d5938"
   },
   "source": [
    "## Step 1: Imports\n"
   ]
  },
  {
   "cell_type": "markdown",
   "id": "9ad6ec97",
   "metadata": {
    "id": "3d28827d-9bb3-45c7-a969-c00f6feda0e2"
   },
   "source": [
    "#### Import Packages"
   ]
  },
  {
   "cell_type": "code",
   "execution_count": 23,
   "id": "e084c361",
   "metadata": {
    "id": "0b3d0e1c-23b9-4491-82a5-ac1e4bd36f30"
   },
   "outputs": [],
   "source": [
    "# Import relevant packages\n",
    "\n",
    "import pandas as pd\n",
    "import numpy as np\n",
    "\n",
    "# To conduct your hypothesis testing\n",
    "from scipy import stats"
   ]
  },
  {
   "cell_type": "markdown",
   "id": "622e3074",
   "metadata": {
    "id": "a4f7c0d0-027e-475a-bce5-ad96d059cd04"
   },
   "source": [
    "We are provided with a dataset with national Air Quality Index (AQI) measurements by state over time for this analysis.\n",
    "\n",
    "**Note:** For purposes of our analysis, we can assume this data is randomly sampled from a larger population."
   ]
  },
  {
   "cell_type": "markdown",
   "id": "ef6e57e8",
   "metadata": {
    "id": "4b765030-5f02-47d2-aa77-8ac5b2117cc1"
   },
   "source": [
    "#### Load Dataset"
   ]
  },
  {
   "cell_type": "code",
   "execution_count": 25,
   "id": "2d315021",
   "metadata": {
    "colab": {
     "base_uri": "https://localhost:8080/",
     "height": 458
    },
    "id": "1ce82ed7-cf32-4028-ac77-a377e7638458",
    "outputId": "eafc0ef5-c72f-425d-b61c-58d22c7a6586",
    "tags": []
   },
   "outputs": [],
   "source": [
    "# Use read_csv() to import your data\n",
    "\n",
    "aqi = pd.read_csv(\"C:/Users/Sajindra/Files/c4_epa_air_quality.csv\")"
   ]
  },
  {
   "cell_type": "markdown",
   "id": "4b550d8c",
   "metadata": {
    "id": "ZDz9XgvMy0MD"
   },
   "source": [
    "## Step 2: Data Exploration"
   ]
  },
  {
   "cell_type": "markdown",
   "id": "b1fcf406",
   "metadata": {
    "id": "c1ee0813-5e74-4564-8ea1-8d724700754a"
   },
   "source": [
    "### Before proceeding to your deliverables, explore your datasets.\n",
    "\n",
    "Use the following space to surface descriptive statistics about your data. In particular, explore whether you believe the research questions you were given are readily answerable with this data."
   ]
  },
  {
   "cell_type": "code",
   "execution_count": 3,
   "id": "c86239b4",
   "metadata": {
    "id": "0444122d-6fba-4051-8b09-b15392aacebf",
    "scrolled": false,
    "tags": []
   },
   "outputs": [
    {
     "data": {
      "text/html": [
       "<div>\n",
       "<style scoped>\n",
       "    .dataframe tbody tr th:only-of-type {\n",
       "        vertical-align: middle;\n",
       "    }\n",
       "\n",
       "    .dataframe tbody tr th {\n",
       "        vertical-align: top;\n",
       "    }\n",
       "\n",
       "    .dataframe thead th {\n",
       "        text-align: right;\n",
       "    }\n",
       "</style>\n",
       "<table border=\"1\" class=\"dataframe\">\n",
       "  <thead>\n",
       "    <tr style=\"text-align: right;\">\n",
       "      <th></th>\n",
       "      <th>Unnamed: 0</th>\n",
       "      <th>date_local</th>\n",
       "      <th>state_name</th>\n",
       "      <th>county_name</th>\n",
       "      <th>city_name</th>\n",
       "      <th>local_site_name</th>\n",
       "      <th>parameter_name</th>\n",
       "      <th>units_of_measure</th>\n",
       "      <th>arithmetic_mean</th>\n",
       "      <th>aqi</th>\n",
       "    </tr>\n",
       "  </thead>\n",
       "  <tbody>\n",
       "    <tr>\n",
       "      <th>0</th>\n",
       "      <td>0</td>\n",
       "      <td>2018-01-01</td>\n",
       "      <td>Arizona</td>\n",
       "      <td>Maricopa</td>\n",
       "      <td>Buckeye</td>\n",
       "      <td>BUCKEYE</td>\n",
       "      <td>Carbon monoxide</td>\n",
       "      <td>Parts per million</td>\n",
       "      <td>0.473684</td>\n",
       "      <td>7</td>\n",
       "    </tr>\n",
       "    <tr>\n",
       "      <th>1</th>\n",
       "      <td>1</td>\n",
       "      <td>2018-01-01</td>\n",
       "      <td>Ohio</td>\n",
       "      <td>Belmont</td>\n",
       "      <td>Shadyside</td>\n",
       "      <td>Shadyside</td>\n",
       "      <td>Carbon monoxide</td>\n",
       "      <td>Parts per million</td>\n",
       "      <td>0.263158</td>\n",
       "      <td>5</td>\n",
       "    </tr>\n",
       "    <tr>\n",
       "      <th>2</th>\n",
       "      <td>2</td>\n",
       "      <td>2018-01-01</td>\n",
       "      <td>Wyoming</td>\n",
       "      <td>Teton</td>\n",
       "      <td>Not in a city</td>\n",
       "      <td>Yellowstone National Park - Old Faithful Snow ...</td>\n",
       "      <td>Carbon monoxide</td>\n",
       "      <td>Parts per million</td>\n",
       "      <td>0.111111</td>\n",
       "      <td>2</td>\n",
       "    </tr>\n",
       "    <tr>\n",
       "      <th>3</th>\n",
       "      <td>3</td>\n",
       "      <td>2018-01-01</td>\n",
       "      <td>Pennsylvania</td>\n",
       "      <td>Philadelphia</td>\n",
       "      <td>Philadelphia</td>\n",
       "      <td>North East Waste (NEW)</td>\n",
       "      <td>Carbon monoxide</td>\n",
       "      <td>Parts per million</td>\n",
       "      <td>0.300000</td>\n",
       "      <td>3</td>\n",
       "    </tr>\n",
       "    <tr>\n",
       "      <th>4</th>\n",
       "      <td>4</td>\n",
       "      <td>2018-01-01</td>\n",
       "      <td>Iowa</td>\n",
       "      <td>Polk</td>\n",
       "      <td>Des Moines</td>\n",
       "      <td>CARPENTER</td>\n",
       "      <td>Carbon monoxide</td>\n",
       "      <td>Parts per million</td>\n",
       "      <td>0.215789</td>\n",
       "      <td>3</td>\n",
       "    </tr>\n",
       "  </tbody>\n",
       "</table>\n",
       "</div>"
      ],
      "text/plain": [
       "   Unnamed: 0  date_local    state_name   county_name      city_name  \\\n",
       "0           0  2018-01-01       Arizona      Maricopa        Buckeye   \n",
       "1           1  2018-01-01          Ohio       Belmont      Shadyside   \n",
       "2           2  2018-01-01       Wyoming         Teton  Not in a city   \n",
       "3           3  2018-01-01  Pennsylvania  Philadelphia   Philadelphia   \n",
       "4           4  2018-01-01          Iowa          Polk     Des Moines   \n",
       "\n",
       "                                     local_site_name   parameter_name  \\\n",
       "0                                            BUCKEYE  Carbon monoxide   \n",
       "1                                          Shadyside  Carbon monoxide   \n",
       "2  Yellowstone National Park - Old Faithful Snow ...  Carbon monoxide   \n",
       "3                             North East Waste (NEW)  Carbon monoxide   \n",
       "4                                          CARPENTER  Carbon monoxide   \n",
       "\n",
       "    units_of_measure  arithmetic_mean  aqi  \n",
       "0  Parts per million         0.473684    7  \n",
       "1  Parts per million         0.263158    5  \n",
       "2  Parts per million         0.111111    2  \n",
       "3  Parts per million         0.300000    3  \n",
       "4  Parts per million         0.215789    3  "
      ]
     },
     "execution_count": 3,
     "metadata": {},
     "output_type": "execute_result"
    }
   ],
   "source": [
    "# Explore your dataframe `aqi` here:\n",
    "\n",
    "aqi.head()"
   ]
  },
  {
   "cell_type": "code",
   "execution_count": 4,
   "id": "f4d37d99",
   "metadata": {},
   "outputs": [
    {
     "data": {
      "text/plain": [
       "(260, 10)"
      ]
     },
     "execution_count": 4,
     "metadata": {},
     "output_type": "execute_result"
    }
   ],
   "source": [
    "# check the shape of dataframe\n",
    "aqi.shape"
   ]
  },
  {
   "cell_type": "code",
   "execution_count": 5,
   "id": "7eb29aee",
   "metadata": {},
   "outputs": [
    {
     "data": {
      "text/html": [
       "<div>\n",
       "<style scoped>\n",
       "    .dataframe tbody tr th:only-of-type {\n",
       "        vertical-align: middle;\n",
       "    }\n",
       "\n",
       "    .dataframe tbody tr th {\n",
       "        vertical-align: top;\n",
       "    }\n",
       "\n",
       "    .dataframe thead th {\n",
       "        text-align: right;\n",
       "    }\n",
       "</style>\n",
       "<table border=\"1\" class=\"dataframe\">\n",
       "  <thead>\n",
       "    <tr style=\"text-align: right;\">\n",
       "      <th></th>\n",
       "      <th>Unnamed: 0</th>\n",
       "      <th>date_local</th>\n",
       "      <th>state_name</th>\n",
       "      <th>county_name</th>\n",
       "      <th>city_name</th>\n",
       "      <th>local_site_name</th>\n",
       "      <th>parameter_name</th>\n",
       "      <th>units_of_measure</th>\n",
       "      <th>arithmetic_mean</th>\n",
       "      <th>aqi</th>\n",
       "    </tr>\n",
       "  </thead>\n",
       "  <tbody>\n",
       "    <tr>\n",
       "      <th>count</th>\n",
       "      <td>260.000000</td>\n",
       "      <td>260</td>\n",
       "      <td>260</td>\n",
       "      <td>260</td>\n",
       "      <td>260</td>\n",
       "      <td>257</td>\n",
       "      <td>260</td>\n",
       "      <td>260</td>\n",
       "      <td>260.000000</td>\n",
       "      <td>260.000000</td>\n",
       "    </tr>\n",
       "    <tr>\n",
       "      <th>unique</th>\n",
       "      <td>NaN</td>\n",
       "      <td>1</td>\n",
       "      <td>52</td>\n",
       "      <td>149</td>\n",
       "      <td>190</td>\n",
       "      <td>253</td>\n",
       "      <td>1</td>\n",
       "      <td>1</td>\n",
       "      <td>NaN</td>\n",
       "      <td>NaN</td>\n",
       "    </tr>\n",
       "    <tr>\n",
       "      <th>top</th>\n",
       "      <td>NaN</td>\n",
       "      <td>2018-01-01</td>\n",
       "      <td>California</td>\n",
       "      <td>Los Angeles</td>\n",
       "      <td>Not in a city</td>\n",
       "      <td>Kapolei</td>\n",
       "      <td>Carbon monoxide</td>\n",
       "      <td>Parts per million</td>\n",
       "      <td>NaN</td>\n",
       "      <td>NaN</td>\n",
       "    </tr>\n",
       "    <tr>\n",
       "      <th>freq</th>\n",
       "      <td>NaN</td>\n",
       "      <td>260</td>\n",
       "      <td>66</td>\n",
       "      <td>14</td>\n",
       "      <td>21</td>\n",
       "      <td>2</td>\n",
       "      <td>260</td>\n",
       "      <td>260</td>\n",
       "      <td>NaN</td>\n",
       "      <td>NaN</td>\n",
       "    </tr>\n",
       "    <tr>\n",
       "      <th>mean</th>\n",
       "      <td>129.500000</td>\n",
       "      <td>NaN</td>\n",
       "      <td>NaN</td>\n",
       "      <td>NaN</td>\n",
       "      <td>NaN</td>\n",
       "      <td>NaN</td>\n",
       "      <td>NaN</td>\n",
       "      <td>NaN</td>\n",
       "      <td>0.403169</td>\n",
       "      <td>6.757692</td>\n",
       "    </tr>\n",
       "    <tr>\n",
       "      <th>std</th>\n",
       "      <td>75.199734</td>\n",
       "      <td>NaN</td>\n",
       "      <td>NaN</td>\n",
       "      <td>NaN</td>\n",
       "      <td>NaN</td>\n",
       "      <td>NaN</td>\n",
       "      <td>NaN</td>\n",
       "      <td>NaN</td>\n",
       "      <td>0.317902</td>\n",
       "      <td>7.061707</td>\n",
       "    </tr>\n",
       "    <tr>\n",
       "      <th>min</th>\n",
       "      <td>0.000000</td>\n",
       "      <td>NaN</td>\n",
       "      <td>NaN</td>\n",
       "      <td>NaN</td>\n",
       "      <td>NaN</td>\n",
       "      <td>NaN</td>\n",
       "      <td>NaN</td>\n",
       "      <td>NaN</td>\n",
       "      <td>0.000000</td>\n",
       "      <td>0.000000</td>\n",
       "    </tr>\n",
       "    <tr>\n",
       "      <th>25%</th>\n",
       "      <td>64.750000</td>\n",
       "      <td>NaN</td>\n",
       "      <td>NaN</td>\n",
       "      <td>NaN</td>\n",
       "      <td>NaN</td>\n",
       "      <td>NaN</td>\n",
       "      <td>NaN</td>\n",
       "      <td>NaN</td>\n",
       "      <td>0.200000</td>\n",
       "      <td>2.000000</td>\n",
       "    </tr>\n",
       "    <tr>\n",
       "      <th>50%</th>\n",
       "      <td>129.500000</td>\n",
       "      <td>NaN</td>\n",
       "      <td>NaN</td>\n",
       "      <td>NaN</td>\n",
       "      <td>NaN</td>\n",
       "      <td>NaN</td>\n",
       "      <td>NaN</td>\n",
       "      <td>NaN</td>\n",
       "      <td>0.276315</td>\n",
       "      <td>5.000000</td>\n",
       "    </tr>\n",
       "    <tr>\n",
       "      <th>75%</th>\n",
       "      <td>194.250000</td>\n",
       "      <td>NaN</td>\n",
       "      <td>NaN</td>\n",
       "      <td>NaN</td>\n",
       "      <td>NaN</td>\n",
       "      <td>NaN</td>\n",
       "      <td>NaN</td>\n",
       "      <td>NaN</td>\n",
       "      <td>0.516009</td>\n",
       "      <td>9.000000</td>\n",
       "    </tr>\n",
       "    <tr>\n",
       "      <th>max</th>\n",
       "      <td>259.000000</td>\n",
       "      <td>NaN</td>\n",
       "      <td>NaN</td>\n",
       "      <td>NaN</td>\n",
       "      <td>NaN</td>\n",
       "      <td>NaN</td>\n",
       "      <td>NaN</td>\n",
       "      <td>NaN</td>\n",
       "      <td>1.921053</td>\n",
       "      <td>50.000000</td>\n",
       "    </tr>\n",
       "  </tbody>\n",
       "</table>\n",
       "</div>"
      ],
      "text/plain": [
       "        Unnamed: 0  date_local  state_name  county_name      city_name  \\\n",
       "count   260.000000         260         260          260            260   \n",
       "unique         NaN           1          52          149            190   \n",
       "top            NaN  2018-01-01  California  Los Angeles  Not in a city   \n",
       "freq           NaN         260          66           14             21   \n",
       "mean    129.500000         NaN         NaN          NaN            NaN   \n",
       "std      75.199734         NaN         NaN          NaN            NaN   \n",
       "min       0.000000         NaN         NaN          NaN            NaN   \n",
       "25%      64.750000         NaN         NaN          NaN            NaN   \n",
       "50%     129.500000         NaN         NaN          NaN            NaN   \n",
       "75%     194.250000         NaN         NaN          NaN            NaN   \n",
       "max     259.000000         NaN         NaN          NaN            NaN   \n",
       "\n",
       "       local_site_name   parameter_name   units_of_measure  arithmetic_mean  \\\n",
       "count              257              260                260       260.000000   \n",
       "unique             253                1                  1              NaN   \n",
       "top            Kapolei  Carbon monoxide  Parts per million              NaN   \n",
       "freq                 2              260                260              NaN   \n",
       "mean               NaN              NaN                NaN         0.403169   \n",
       "std                NaN              NaN                NaN         0.317902   \n",
       "min                NaN              NaN                NaN         0.000000   \n",
       "25%                NaN              NaN                NaN         0.200000   \n",
       "50%                NaN              NaN                NaN         0.276315   \n",
       "75%                NaN              NaN                NaN         0.516009   \n",
       "max                NaN              NaN                NaN         1.921053   \n",
       "\n",
       "               aqi  \n",
       "count   260.000000  \n",
       "unique         NaN  \n",
       "top            NaN  \n",
       "freq           NaN  \n",
       "mean      6.757692  \n",
       "std       7.061707  \n",
       "min       0.000000  \n",
       "25%       2.000000  \n",
       "50%       5.000000  \n",
       "75%       9.000000  \n",
       "max      50.000000  "
      ]
     },
     "execution_count": 5,
     "metadata": {},
     "output_type": "execute_result"
    }
   ],
   "source": [
    "# check descriptive statistics\n",
    "\n",
    "aqi.describe(include='all')"
   ]
  },
  {
   "cell_type": "code",
   "execution_count": 6,
   "id": "665fcd65",
   "metadata": {},
   "outputs": [
    {
     "name": "stdout",
     "output_type": "stream",
     "text": [
      "state_name\n",
      "California              66\n",
      "Arizona                 14\n",
      "Ohio                    12\n",
      "Florida                 12\n",
      "Texas                   10\n",
      "New York                10\n",
      "Pennsylvania            10\n",
      "Michigan                 9\n",
      "Colorado                 9\n",
      "Minnesota                7\n",
      "New Jersey               6\n",
      "Indiana                  5\n",
      "North Carolina           4\n",
      "Massachusetts            4\n",
      "Maryland                 4\n",
      "Oklahoma                 4\n",
      "Virginia                 4\n",
      "Nevada                   4\n",
      "Connecticut              4\n",
      "Kentucky                 3\n",
      "Missouri                 3\n",
      "Wyoming                  3\n",
      "Iowa                     3\n",
      "Hawaii                   3\n",
      "Utah                     3\n",
      "Vermont                  3\n",
      "Illinois                 3\n",
      "New Hampshire            2\n",
      "District Of Columbia     2\n",
      "New Mexico               2\n",
      "Montana                  2\n",
      "Oregon                   2\n",
      "Alaska                   2\n",
      "Georgia                  2\n",
      "Washington               2\n",
      "Idaho                    2\n",
      "Nebraska                 2\n",
      "Rhode Island             2\n",
      "Tennessee                2\n",
      "Maine                    2\n",
      "South Carolina           1\n",
      "Puerto Rico              1\n",
      "Arkansas                 1\n",
      "Kansas                   1\n",
      "Mississippi              1\n",
      "Alabama                  1\n",
      "Louisiana                1\n",
      "Delaware                 1\n",
      "South Dakota             1\n",
      "West Virginia            1\n",
      "North Dakota             1\n",
      "Wisconsin                1\n",
      "Name: count, dtype: int64\n"
     ]
    }
   ],
   "source": [
    "# show state value counts\n",
    "\n",
    "print(aqi['state_name'].value_counts())"
   ]
  },
  {
   "cell_type": "markdown",
   "id": "d894d805",
   "metadata": {
    "id": "4a29c065-73b4-409f-a57c-b49c740f3d1d"
   },
   "source": [
    "Note:\n",
    "- We have county-level data for the first hypothesis.\n",
    "- Ohio and New York both have a higher number of observations to work with in this dataset."
   ]
  },
  {
   "cell_type": "markdown",
   "id": "a6e8cb1e",
   "metadata": {
    "id": "fd48d0f0-3f90-455e-87a1-0da43fcac202"
   },
   "source": [
    "## Step 3. Statistical Tests\n",
    "\n",
    "Before you proceed, recall the following steps for conducting hypothesis testing:\n",
    "\n",
    "1. Formulate the null hypothesis and the alternative hypothesis.<br>\n",
    "2. Set the significance level.<br>\n",
    "3. Determine the appropriate test procedure.<br>\n",
    "4. Compute the p-value.<br>\n",
    "5. Draw your conclusion."
   ]
  },
  {
   "cell_type": "markdown",
   "id": "6b2839cf",
   "metadata": {
    "id": "d572fbab-b82e-4898-96d5-93a8f20c3094"
   },
   "source": [
    "### Hypothesis 1: ROA is considering a metropolitan-focused approach. Within California, they want to know if the mean AQI in Los Angeles County is statistically different from the rest of California.\n",
    "\n",
    "Before proceeding with the analysis, it will be helpful to subset the data for your comparison."
   ]
  },
  {
   "cell_type": "code",
   "execution_count": 8,
   "id": "162d63bd",
   "metadata": {
    "id": "c8e42529-af00-4699-96b4-bd0f8989014a"
   },
   "outputs": [],
   "source": [
    "# Create dataframes for each sample being compared in your test\n",
    "\n",
    "ca_la = aqi[aqi['county_name']=='Los Angeles']\n",
    "ca_other = aqi[(aqi['state_name']=='California') & (aqi['county_name']!='Los Angeles')]"
   ]
  },
  {
   "cell_type": "markdown",
   "id": "144a75d5",
   "metadata": {
    "id": "7dff76cf-3a49-49d2-9660-0b5ec17d5f0a"
   },
   "source": [
    "#### Formulate your hypothesis:"
   ]
  },
  {
   "cell_type": "markdown",
   "id": "2d26c6bb",
   "metadata": {
    "id": "fdddef66-6207-4cc0-853c-0b578674bbfc"
   },
   "source": [
    "Formulate your null and alternative hypotheses:\n",
    "\n",
    "*   $H_0$: There is no difference in the mean AQI between Los Angeles County and the rest of California.\n",
    "*   $H_A$: There is a difference in the mean AQI between Los Angeles County and the rest of California.\n"
   ]
  },
  {
   "cell_type": "markdown",
   "id": "c4f76b72",
   "metadata": {
    "id": "5dac3136-16bf-45d2-a560-05fe5361f5cb"
   },
   "source": [
    "#### Set the significance level:\n",
    "Significance level is the threshold at which you will consider results statistically significant. The significance level is also the probability of rejecting the null hypothesis when it is true. Usually 5% used."
   ]
  },
  {
   "cell_type": "code",
   "execution_count": 9,
   "id": "7082e455",
   "metadata": {
    "id": "5ef36549-7ccb-4547-bf04-d23b166c65d4"
   },
   "outputs": [
    {
     "data": {
      "text/plain": [
       "0.05"
      ]
     },
     "execution_count": 9,
     "metadata": {},
     "output_type": "execute_result"
    }
   ],
   "source": [
    "# For this analysis, the significance level is 5%\n",
    "\n",
    "significance_level = 0.05\n",
    "significance_level"
   ]
  },
  {
   "cell_type": "markdown",
   "id": "b5b76ae0",
   "metadata": {
    "id": "4ebb679d-188d-4ca8-a886-6edb9ba1301e"
   },
   "source": [
    "#### Determine the appropriate test procedure:"
   ]
  },
  {
   "cell_type": "markdown",
   "id": "96530872",
   "metadata": {
    "id": "ab717428-91e5-4f88-b6d5-0a8c3034e010"
   },
   "source": [
    "Here, we are comparing the sample means between two independent samples. Therefore, we will utilize a **two-sample  𝑡-test**."
   ]
  },
  {
   "attachments": {
    "image-2.png": {
     "image/png": "[encoded data removed]"
    },
    "image.png": {
     "image/png": "[encoded data removed]"
    }
   },
   "cell_type": "markdown",
   "id": "4f83cc71",
   "metadata": {
    "id": "e862eb4d-a170-4126-9373-a527bf5659da"
   },
   "source": [
    "#### Compute the p-value\n",
    " p-value refers to the probability of observing results as or more extreme than those observed when the null hypothesis is true. \n",
    " This can be found by calculating sample statistic. \n",
    " \n",
    " Sample statistic 't':\n",
    " ![image.png](attachment:image.png)\n",
    " \n",
    " ![image-2.png](attachment:image-2.png)"
   ]
  },
  {
   "cell_type": "code",
   "execution_count": 10,
   "id": "9370a98f",
   "metadata": {
    "id": "83ef0d80-48ec-4a5a-8acd-0fab137243c3",
    "tags": []
   },
   "outputs": [
    {
     "data": {
      "text/plain": [
       "TtestResult(statistic=2.1107010796372014, pvalue=0.049839056842410995, df=17.08246830361151)"
      ]
     },
     "execution_count": 10,
     "metadata": {},
     "output_type": "execute_result"
    }
   ],
   "source": [
    "# Compute your p-value using built-in function\n",
    "\n",
    "stats.ttest_ind(a=ca_la['aqi'], b=ca_other['aqi'], equal_var=False)\n",
    "\n",
    "#if equal_var is specified then the test statistic is based on a single estimate of variance calculated across \n",
    "#the whole pool of data (both samples)\n",
    "\n",
    "# by default argument 'alternative' = '‘two-sided’: the means of the distributions underlying the samples are unequal.'\n",
    "#‘less’: the mean of the distribution underlying the first sample < mean of the distribution underlying the second sample.\n",
    "#‘greater’: the mean of the distribution underlying the first sample > mean of the distribution underlying the second sample."
   ]
  },
  {
   "cell_type": "markdown",
   "id": "6acb5754",
   "metadata": {
    "id": "2d62e8b0-59e5-471d-a5fc-d50395955a2a"
   },
   "source": [
    "Note: With a p-value (0.049) being less than 0.05 (as your significance level is 5%), reject the null hypothesis in favor of the alternative hypothesis. ie. there is a difference in the mean AQI between Los Angeles County and the rest of California.\n",
    "\n",
    "Therefore, a metropolitan strategy may make sense in this case."
   ]
  },
  {
   "cell_type": "markdown",
   "id": "f8c0ab60",
   "metadata": {
    "id": "94a88155-3328-4c7e-8e60-67a2ba9d7967"
   },
   "source": [
    "### Hypothesis 2: With limited resources, ROA has to choose between New York and Ohio for their next regional office. Does New York have a lower AQI than Ohio?\n",
    "\n",
    "Before proceeding with your analysis, it will be helpful to subset the data for your comparison."
   ]
  },
  {
   "cell_type": "code",
   "execution_count": 12,
   "id": "4081a2e2",
   "metadata": {
    "id": "f39b7d83-9fbf-4bba-90c2-c99f903badd8"
   },
   "outputs": [],
   "source": [
    "# Create dataframes for each sample being compared in your test\n",
    "\n",
    "\n",
    "ny = aqi[aqi['state_name']=='New York']\n",
    "ohio = aqi[aqi['state_name']=='Ohio']"
   ]
  },
  {
   "cell_type": "markdown",
   "id": "6ec8475f",
   "metadata": {
    "id": "7478185b-a351-4c7c-b1b8-6eaa1a26d2ed"
   },
   "source": [
    "#### Formulate the hypothesis:"
   ]
  },
  {
   "cell_type": "markdown",
   "id": "47ecb2fd",
   "metadata": {
    "id": "029b0f9c-0d0c-475f-b745-643a313e2b79"
   },
   "source": [
    "*   $H_0$: The mean AQI of New York is greater than or equal to that of Ohio.\n",
    "*   $H_A$: The mean AQI of New York is **below** that of Ohio.\n"
   ]
  },
  {
   "cell_type": "markdown",
   "id": "f2ab8276",
   "metadata": {
    "id": "b12559f5-bd57-4664-be80-7208ca8818b4"
   },
   "source": [
    "#### Significance Level (remains at 5%)"
   ]
  },
  {
   "cell_type": "markdown",
   "id": "a3fb0ec7",
   "metadata": {
    "id": "2b57fcf8-6f9d-4dae-ba0d-4af9a24d991d"
   },
   "source": [
    "#### Determine the appropriate test procedure:"
   ]
  },
  {
   "cell_type": "markdown",
   "id": "1757686b",
   "metadata": {
    "id": "8ac7075f-1342-4522-9c49-1f43574d05f8"
   },
   "source": [
    "Here, we are comparing the sample means between two independent samples in one direction. Therefore, you will utilize a **two-sample  𝑡-test**."
   ]
  },
  {
   "cell_type": "markdown",
   "id": "18158a08",
   "metadata": {
    "id": "77f03fc8-0663-48b2-af4b-2936b35027e7"
   },
   "source": [
    "#### Compute the p-value"
   ]
  },
  {
   "cell_type": "code",
   "execution_count": 13,
   "id": "a7978d8e",
   "metadata": {
    "id": "e495500f-c3d9-4cf2-ad1d-4687640a01b4",
    "tags": []
   },
   "outputs": [
    {
     "name": "stdout",
     "output_type": "stream",
     "text": [
      "-2.025951038880333\n",
      "0.03044650269193468\n"
     ]
    }
   ],
   "source": [
    "# Compute your p-value here\n",
    "\n",
    "tstat, pvalue = stats.ttest_ind(a=ny['aqi'], b=ohio['aqi'], alternative='less', equal_var=False)\n",
    "\n",
    "# alternative = ‘less’: the mean of the distribution underlying the first sample < mean of the distribution underlying \n",
    "# the second sample.\n",
    "\n",
    "print(tstat)\n",
    "print(pvalue)"
   ]
  },
  {
   "cell_type": "markdown",
   "id": "90a360ba",
   "metadata": {
    "id": "d56642db-8f45-405a-af7d-69bd3ad3fe58"
   },
   "source": [
    "Note: With a p-value (0.030) of less than 0.05 (as your significance level is 5%) and a t-statistic < 0 (-2.036), **reject the null hypothesis in favor of the alternative hypothesis**.\n",
    "\n",
    "Therefore, you can conclude at the 5% significance level that New York has a lower mean AQI than Ohio."
   ]
  },
  {
   "cell_type": "markdown",
   "id": "9342e597",
   "metadata": {
    "id": "4308fdf1-3080-4697-a0b4-4c7c59c49b9b"
   },
   "source": [
    "###  Hypothesis 3: A new policy will affect those states with a mean AQI of 10 or greater. Will Michigan be affected by this new policy?\n",
    "\n",
    "Before proceeding with your analysis, it will be helpful to subset the data for your comparison."
   ]
  },
  {
   "cell_type": "code",
   "execution_count": 20,
   "id": "a0bde342",
   "metadata": {
    "id": "559c43b4-ccb3-4a05-91d4-8f4aaee4d8b7"
   },
   "outputs": [
    {
     "data": {
      "text/plain": [
       "9"
      ]
     },
     "execution_count": 20,
     "metadata": {},
     "output_type": "execute_result"
    }
   ],
   "source": [
    "# Create dataframes for each sample being compared in your test\n",
    "\n",
    "michigan = aqi[aqi['state_name']=='Michigan']\n",
    "\n",
    "# check the count of values\n",
    "michigan['aqi'].count()"
   ]
  },
  {
   "cell_type": "markdown",
   "id": "b494f98e",
   "metadata": {
    "id": "6886d303-82ca-42c5-980c-3893868241eb"
   },
   "source": [
    "#### Formulate your hypothesis:"
   ]
  },
  {
   "cell_type": "markdown",
   "id": "c0046d00",
   "metadata": {
    "id": "b25225ee-02d7-4d42-8746-9e68598b7bf6"
   },
   "source": [
    "**Formulate your null and alternative hypotheses here:**\n",
    "\n",
    "*   $H_0$: The mean AQI of Michigan is less than or equal to 10.\n",
    "*   $H_A$: The mean AQI of Michigan is greater than 10.\n"
   ]
  },
  {
   "cell_type": "markdown",
   "id": "cc6b9a7f",
   "metadata": {
    "id": "32581125-a9ef-4b17-b8d5-0e1085d4c746"
   },
   "source": [
    "#### Significance Level (remains at 5%)"
   ]
  },
  {
   "cell_type": "markdown",
   "id": "618b1057",
   "metadata": {
    "id": "915f8cd0-d06b-44ab-81f6-0effa96fae09"
   },
   "source": [
    "#### Determine the appropriate test procedure:"
   ]
  },
  {
   "cell_type": "markdown",
   "id": "2e4ae092",
   "metadata": {
    "id": "6753e251-d152-48c9-a5ad-bd46b62636ee"
   },
   "source": [
    "Here, we are comparing one sample mean relative to a particular value in one direction. Therefore, we will utilize a **one-sample  𝑡-test**.\n",
    "- one-sample t-test assumes that the population standard deviation is unknown\n",
    "- T-test is applied when the population variance is unknown, or the sample size is small (n < 30 )"
   ]
  },
  {
   "cell_type": "markdown",
   "id": "d6808d50",
   "metadata": {
    "id": "95443324-76bb-4473-b07b-dcc0c9be7251"
   },
   "source": [
    "#### Compute the P-value"
   ]
  },
  {
   "cell_type": "code",
   "execution_count": 21,
   "id": "0fb13aba",
   "metadata": {
    "id": "8b86c9f5-284a-4ed7-b2d4-2b531e0092f9",
    "tags": []
   },
   "outputs": [
    {
     "name": "stdout",
     "output_type": "stream",
     "text": [
      "-1.7395913343286131\n",
      "0.9399405193140109\n"
     ]
    }
   ],
   "source": [
    "# Compute p-value here\n",
    "\n",
    "tstat, pvalue = stats.ttest_1samp(michigan['aqi'], 10, alternative='greater')\n",
    "\n",
    "# alternative = 'greater' : the mean of the distribution underlying the sample > 10\n",
    "\n",
    "print(tstat)\n",
    "print(pvalue)"
   ]
  },
  {
   "cell_type": "markdown",
   "id": "342519a4",
   "metadata": {
    "id": "33175451-2fed-4105-8a46-1bfb0ad3b714"
   },
   "source": [
    "Note: With a p-value (0.940) being greater than 0.05 (as your significance level is 5%) and a t-statistic < 0 (-1.74), **fail to reject the null hypothesis**.\n",
    "\n",
    "Therefore, we cannot conclude at the 5% significance level that Michigan's mean AQI is greater than 10. This implies that Michigan would most likely not be affected by the new policy."
   ]
  },
  {
   "cell_type": "markdown",
   "id": "35b51e16",
   "metadata": {
    "id": "oS3JWcpU127z"
   },
   "source": [
    "## Step 4. Results and Evaluation\n"
   ]
  },
  {
   "cell_type": "markdown",
   "id": "ba6af2d8",
   "metadata": {
    "id": "q2p_8BmC16V-"
   },
   "source": [
    "- The results indicated that the AQI in Los Angeles County was in fact different from the rest of California.\n",
    "- Using a 5% significance level, we can conclude that New York has a lower AQI than Ohio based on the results.\n",
    "- Based on the tests, we would fail to reject the null hypothesis, meaning we can't conclude that the  Michigan's mean AQI is greater than 10. Thus, it is unlikely that Michigan would be affected by the new policy."
   ]
  },
  {
   "cell_type": "markdown",
   "id": "b7fd8a1d",
   "metadata": {
    "id": "e2bf2c48-c712-4310-a83e-96a13edc4da1"
   },
   "source": [
    "# Conclusion\n",
    "\n",
    "Even with small sample sizes, the variation within the data is enough to allow you to make statistically significant conclusions. We identified at the 5% significance level that the Los Angeles mean AQI was stastitically different from the rest of California, and that New York does have a lower mean AQI than Ohio. However, we were unable to conclude at the 5% significance level that Michigan's mean AQI was greater than 10."
   ]
  }
 ],
 "metadata": {
  "colab": {
   "collapsed_sections": [
    "b12559f5-bd57-4664-be80-7208ca8818b4",
    "32581125-a9ef-4b17-b8d5-0e1085d4c746"
   ],
   "provenance": []
  },
  "kernelspec": {
   "display_name": "Python 3 (ipykernel)",
   "language": "python",
   "name": "python3"
  },
  "language_info": {
   "codemirror_mode": {
    "name": "ipython",
    "version": 3
   },
   "file_extension": ".py",
   "mimetype": "text/x-python",
   "name": "python",
   "nbconvert_exporter": "python",
   "pygments_lexer": "ipython3",
   "version": "3.11.5"
  }
 },
 "nbformat": 4,
 "nbformat_minor": 5
}
